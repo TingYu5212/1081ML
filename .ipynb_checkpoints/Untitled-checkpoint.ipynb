{
 "cells": [
  {
   "cell_type": "code",
   "execution_count": null,
   "metadata": {},
   "outputs": [],
   "source": [
    "height=eval(input(\"身高,單位公尺=\"))\n",
    "wight=eval(input(\"體重,單位公斤=\"))\n",
    "BMI=wight/height**2\n",
    "if BMI<18.5:\n",
    "    print(\"體重過輕\")\n",
    "elif BMI<24:\n",
    "    print(\"正常\")\n",
    "elif BMI<27:\n",
    "    print(\"體重過重\")\n",
    "elif BMI<30:\n",
    "    print(\"輕度肥胖\")\n",
    "elif BMI<35:\n",
    "    print(\"中度肥胖\")       \n",
    "else:\n",
    "     print(\"過度肥胖\")"
   ]
  },
  {
   "cell_type": "code",
   "execution_count": null,
   "metadata": {},
   "outputs": [],
   "source": [
    "year=eval(input(\"輸入年份\"))\n",
    "if year%4=0"
   ]
  },
  {
   "cell_type": "code",
   "execution_count": null,
   "metadata": {},
   "outputs": [],
   "source": []
  }
 ],
 "metadata": {
  "kernelspec": {
   "display_name": "Python 3",
   "language": "python",
   "name": "python3"
  },
  "language_info": {
   "codemirror_mode": {
    "name": "ipython",
    "version": 3
   },
   "file_extension": ".py",
   "mimetype": "text/x-python",
   "name": "python",
   "nbconvert_exporter": "python",
   "pygments_lexer": "ipython3",
   "version": "3.7.3"
  }
 },
 "nbformat": 4,
 "nbformat_minor": 2
}
